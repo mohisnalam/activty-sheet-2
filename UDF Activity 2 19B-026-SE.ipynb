{
 "cells": [
  {
   "cell_type": "markdown",
   "metadata": {},
   "source": [
    "# Python User Define Function Practice Activity - 2 "
   ]
  },
  {
   "cell_type": "markdown",
   "metadata": {},
   "source": [
    "Asst. Prof. Syed Faisal Ali              $\\;\\;\\;\\;\\;\\;$              Programming Fundamentals - FALL 2019 $\\;\\;\\;\\;\\;\\;$ Software Engineering                     $\\;\\;\\;\\;\\;\\;$                   Dated: 27 Nov 2019"
   ]
  },
  {
   "cell_type": "markdown",
   "metadata": {},
   "source": [
    "Question 1: Create a function to find the following:\n",
    "If the base of triangle is 3 cm long and its equilateral triangle and the radius of circle is 1.5 cm then find the area of triangle shaded. \n"
   ]
  },
  {
   "cell_type": "markdown",
   "metadata": {},
   "source": [
    "![proj](q1.jpg)"
   ]
  },
  {
   "cell_type": "code",
   "execution_count": 6,
   "metadata": {},
   "outputs": [
    {
     "name": "stdout",
     "output_type": "stream",
     "text": [
      "Area of Shaded Region = 16.31cm³\n"
     ]
    }
   ],
   "source": [
    "#time = 15 minute\n",
    "from math import pi,sqrt\n",
    "def areas():\n",
    "    base_triangle = 3\n",
    "    radius_circle = 1.5\n",
    "    height_triangle = sqrt(3**2 - 1.5**2)\n",
    "    Area_Triangle = 6 * (.5 * base_triangle * height_triangle)\n",
    "    Area_Circle = pi * radius_circle**2\n",
    "    Shaded = Area_Triangle-Area_Circle\n",
    "    print(\"Area of Shaded Region = {0:.{1}f}cm\\u00b3\".format(Shaded,2))\n",
    "    \n",
    "areas()"
   ]
  },
  {
   "cell_type": "markdown",
   "metadata": {},
   "source": [
    "Question 2: Create a function which can read a dictionary of your family members such as 5 members. \n",
    "1 Abbu, 1 Ammi, 2 Brothers 1 Sister. Now feed this data in dictionary in terms of name and relations.\n",
    "The UDF will ask findrelation() in this you will enter Brother it will return the names of two brothers you have inserted. In case if the relation is not found it will return “Sorry the relation doesn’t exist in your family.” \n"
   ]
  },
  {
   "cell_type": "code",
   "execution_count": 8,
   "metadata": {},
   "outputs": [
    {
     "name": "stdout",
     "output_type": "stream",
     "text": [
      "['tehseen']\n"
     ]
    }
   ],
   "source": [
    "#Question 2 time = 8 minutes\n",
    "#name are made up :p\n",
    "def findrelation(Relation):\n",
    "    family = {'mother' : ['taseenim'] , 'father' : ['alam'] ,'brother' : ['tehseen'] , 'sister' : ['iqra','dua']  }\n",
    "    if Relation.lower() in family:\n",
    "        print(family.get(Relation.lower()))\n",
    "    else:\n",
    "        print(\"Sorry Relation Does not exist in your family\")\n",
    "findrelation('brother')"
   ]
  },
  {
   "cell_type": "markdown",
   "metadata": {},
   "source": [
    "Question 3: Create a function to find the following:\n",
    "If the base of triangle is 5 cm long and its equilateral triangle and the radius of circle is 2.25 cm then find the area of triangle shaded. \n"
   ]
  },
  {
   "cell_type": "code",
   "execution_count": 12,
   "metadata": {},
   "outputs": [
    {
     "name": "stdout",
     "output_type": "stream",
     "text": [
      "Area of Shaded Region = 15.90cm³\n"
     ]
    }
   ],
   "source": [
    "#time = 5 minute\n",
    "def area_S():\n",
    "    base_triangle = 5\n",
    "    radius_circle = 2.25\n",
    "    height_triangle = sqrt(3**2 - 1.5**2)\n",
    "    Area_Trianlge = 6 * (.5 * base_triangle * height_triangle)\n",
    "    Area_Circle= pi * radius_circle**2\n",
    "    \n",
    "    print(\"Area of Shaded Region = {0:.{1}f}cm\\u00b3\".format(Area_Circle,2))\n",
    "    \n",
    "area_S()\n"
   ]
  },
  {
   "cell_type": "markdown",
   "metadata": {},
   "source": [
    "Question 4:\n",
    "Create a function that takes a list of random numbers from users and add only those which are even. If all the numbers are odd it will return sorry no even number found.\n"
   ]
  },
  {
   "cell_type": "code",
   "execution_count": 13,
   "metadata": {},
   "outputs": [
    {
     "name": "stdout",
     "output_type": "stream",
     "text": [
      "Enter the Numbers : 2\n",
      "Enter the Numbers : 3\n",
      "Enter the Numbers : 4\n",
      "Enter the Numbers : 5\n",
      "Total Sum of Even Numbers Only =  6\n"
     ]
    }
   ],
   "source": [
    "#time = 6 minutes\n",
    "def even():\n",
    "    x = [0,0,0,0]\n",
    "    sum = 0\n",
    "    for i in range(4):\n",
    "        x[i]=int(input(\"Enter the Numbers : \"))\n",
    "    \n",
    "    for i in x:\n",
    "        if i%2==0:\n",
    "            sum = sum + i\n",
    "    print(\"Total Sum of Even Numbers Only = \",sum)\n",
    "even()"
   ]
  },
  {
   "cell_type": "markdown",
   "metadata": {},
   "source": [
    "Question 5:\n",
    "Write a function which can take a list of numbers and it will return sorted list.\n"
   ]
  },
  {
   "cell_type": "code",
   "execution_count": 18,
   "metadata": {},
   "outputs": [
    {
     "name": "stdout",
     "output_type": "stream",
     "text": [
      "Enter the Numbers : 1\n",
      "Enter the Numbers : 2\n",
      "Enter the Numbers : 3\n",
      "Enter the Numbers : 4\n",
      "Enter the Numbers : 5\n",
      "Enter the Numbers : 6\n",
      "Enter the Numbers : 7\n",
      "Enter the Numbers : 8\n",
      "Enter the Numbers : 9\n",
      "[1, 2, 3, 4, 5, 6, 7, 8, 9]\n"
     ]
    }
   ],
   "source": [
    "#5 time = 3 min\n",
    "def sort():\n",
    "    x = [0,0,0,0,0,0,0,0,0]\n",
    "    sum = 0\n",
    "    for i in range(9):\n",
    "        x[i]=int(input(\"Enter the Numbers : \"))\n",
    "    x.sort()\n",
    "    print(x)\n",
    "sort()"
   ]
  },
  {
   "cell_type": "markdown",
   "metadata": {},
   "source": [
    "Question 6:\n",
    "Write a function that will take the radius and return the perimeter and area of circle with 5% increment.\n"
   ]
  },
  {
   "cell_type": "code",
   "execution_count": 20,
   "metadata": {},
   "outputs": [
    {
     "name": "stdout",
     "output_type": "stream",
     "text": [
      "Original Area : 28.27cm² \n",
      "Area with 5% increment : 29.69cm \n",
      "\n",
      "\n",
      "Original Perimeter : 18.85cm² \n",
      "Perimeter with 5% increment : 19.79cm \n"
     ]
    }
   ],
   "source": [
    "#Time = 6 minutes\n",
    "from math import pi\n",
    "def increment(r):\n",
    "    Area = pi * r**2\n",
    "    Perimeter = 2 * pi * r\n",
    "    AreaI= (Area/100)*105\n",
    "    PerimeterI = (Perimeter/100)*105\n",
    "    print(\"Original Area : {0:.{1}f}cm\\u00b2 \".format(Area,2))\n",
    "    print(\"Area with 5% increment : {0:.{1}f}cm \".format(AreaI,2))\n",
    "    print(\"\\n\")\n",
    "    print(\"Original Perimeter : {0:.{1}f}cm\\u00b2 \".format(Perimeter,2))\n",
    "    print(\"Perimeter with 5% increment : {0:.{1}f}cm \".format(PerimeterI,2))\n",
    "increment(3)"
   ]
  },
  {
   "cell_type": "markdown",
   "metadata": {},
   "source": [
    "Question 7:\n",
    "Write a function that will take the strings as argument and return number of vowels and consonants.\n"
   ]
  },
  {
   "cell_type": "code",
   "execution_count": 21,
   "metadata": {},
   "outputs": [
    {
     "name": "stdout",
     "output_type": "stream",
     "text": [
      "Enter a String : MOHsinALAm\n",
      "Total Number of Vowels :  4\n",
      "Total Number of Constant :  6\n"
     ]
    }
   ],
   "source": [
    "#time 8 minute\n",
    "def counting():\n",
    "    total = 0\n",
    "    count = 0\n",
    "    string = input(\"Enter a String : \")\n",
    "    \n",
    "    for i in string:\n",
    "        if i in 'AEIOUaeiou':\n",
    "            total = total + 1\n",
    "        else:\n",
    "            count = count + 1\n",
    "    print(\"Total Number of Vowels : \",total)\n",
    "    print(\"Total Number of Constant : \",count)\n",
    "counting()"
   ]
  },
  {
   "cell_type": "markdown",
   "metadata": {},
   "source": [
    "Question 8:\n",
    "Write a function that will take length and breadth for a rectangle and return perimeter and area of rectangle with 8% increment.\n"
   ]
  },
  {
   "cell_type": "code",
   "execution_count": 22,
   "metadata": {},
   "outputs": [
    {
     "name": "stdout",
     "output_type": "stream",
     "text": [
      "Enter length of Rectangle : 7\n",
      "Enter Bredth of Rectangle : 9\n",
      "Original Area : 63.00cm² \n",
      "Area with 5% increment : 68.04cm \n",
      "\n",
      "\n",
      "Original Perimeter : 32.00cm² \n",
      "Perimeter with 5% increment : 34.56cm \n"
     ]
    }
   ],
   "source": [
    "#time 4 minutes\n",
    "def increment():\n",
    "    l = int(input(\"Enter length of Rectangle : \"))\n",
    "    b = int(input(\"Enter Bredth of Rectangle : \"))\n",
    "    AreaO = l * b\n",
    "    PerimeterO = 2*l + 2*b\n",
    "    AreaI= (AreaO/100)*108\n",
    "    PerimeterI = (PerimeterO/100)*108\n",
    "    print(\"Original Area : {0:.{1}f}cm\\u00b2 \".format(AreaO,2))\n",
    "    print(\"Area with 5% increment : {0:.{1}f}cm \".format(AreaI,2))\n",
    "    print(\"\\n\")\n",
    "    print(\"Original Perimeter : {0:.{1}f}cm\\u00b2 \".format(PerimeterO,2))\n",
    "    print(\"Perimeter with 5% increment : {0:.{1}f}cm \".format(PerimeterI,2))\n",
    "increment()"
   ]
  },
  {
   "cell_type": "markdown",
   "metadata": {},
   "source": [
    "Question 9:\n",
    "Write a function that can take the numbers in strings. From string find which number is even and which one is odd. Save them in two different lists and generate the result.\n"
   ]
  },
  {
   "cell_type": "code",
   "execution_count": 1,
   "metadata": {},
   "outputs": [
    {
     "name": "stdout",
     "output_type": "stream",
     "text": [
      "Enter a Number : 4\n",
      "Enter a Number : 5\n",
      "Enter a Number : 6\n",
      "Enter a Number : 7\n",
      "Enter a Number : 8\n",
      "Enter a Number : 9\n",
      "Enter a Number : 10\n",
      "Enter a Number : 11\n",
      "Even Numbers :  ['4', '6', '8', '10']\n",
      "Odd Numbers  :  ['5', '7', '9', '11']\n"
     ]
    }
   ],
   "source": [
    "#time 4 minute\n",
    "def ss():\n",
    "    x = []\n",
    "    y = []\n",
    "    for i in range(8):\n",
    "        num = str(input(\"Enter a Number : \"))\n",
    "        if int(num)%2==0:\n",
    "            x.append(num)\n",
    "        else:\n",
    "            y.append(num)\n",
    "    print(\"Even Numbers : \",x)\n",
    "    print(\"Odd Numbers  : \",y)\n",
    "ss()"
   ]
  },
  {
   "cell_type": "markdown",
   "metadata": {},
   "source": [
    "Question 10:\n",
    "Write a function which will take the string from the user and return how many alphabets have been used in it and which alphabets are missing.\n"
   ]
  },
  {
   "cell_type": "code",
   "execution_count": 2,
   "metadata": {},
   "outputs": [
    {
     "name": "stdout",
     "output_type": "stream",
     "text": [
      "Number of Alphabets Used :  8\n",
      "\n",
      "Aphabets not used \n",
      "['b', 'c', 'd', 'e', 'f', 'g', 'j', 'k', 'p', 'q', 'r', 't', 'u', 'v', 'w', 'x', 'y', 'z']\n"
     ]
    }
   ],
   "source": [
    "#time 18 minutes\n",
    "def counts(y):\n",
    "    count = 0\n",
    "    x = ['a','b','c','d','e','f','g','h','i','j','k','l','m','n','o','p','q','r','s','t','u','v','w','x','y','z']\n",
    "    y.casefold()\n",
    "    z=['']\n",
    "    for i in y:\n",
    "        if i in x and i not in z:\n",
    "            count = count + 1 \n",
    "            c = z.append(i)\n",
    "            x.remove(i)\n",
    "    print(\"Number of Alphabets Used : \" ,count)\n",
    "    print(\"\\nAphabets not used \")\n",
    "    print(x)\n",
    "    \n",
    "counts('mohsinalam')"
   ]
  },
  {
   "cell_type": "markdown",
   "metadata": {},
   "source": [
    "Question 11:\n",
    "Write a function that will take verbs in words and return a list of verbs with continuous tense by adding (ing) at the end of each verb.\n"
   ]
  },
  {
   "cell_type": "code",
   "execution_count": 4,
   "metadata": {},
   "outputs": [
    {
     "name": "stdout",
     "output_type": "stream",
     "text": [
      "Enter verbs : run\n",
      "Enter verbs : jump\n",
      "['runing', 'jumping']\n"
     ]
    }
   ],
   "source": [
    "#time 19 minutes\n",
    "def countinuous():\n",
    "    verb = ['','']\n",
    "    g = ['','']\n",
    "    for i in range(2):\n",
    "        verb[i] = input(\"Enter verbs : \")\n",
    "    \n",
    "    c = 0\n",
    "    for x in verb:\n",
    "        g[c]=x+\"ing\"\n",
    "        c = c+1\n",
    "    print(g)\n",
    "countinuous()                  "
   ]
  },
  {
   "cell_type": "markdown",
   "metadata": {},
   "source": [
    "Question 12:\n",
    "Make a function which can take two radius of circles and find the areas of it and subtract smaller one from larger one and tell the remaining area of circle.\n"
   ]
  },
  {
   "cell_type": "code",
   "execution_count": 5,
   "metadata": {},
   "outputs": [
    {
     "name": "stdout",
     "output_type": "stream",
     "text": [
      "Enter radius  of Circle 1 : 7\n",
      "Enter radius of Circle 2: 9\n",
      "Area of Circle = 153.94cm²\n",
      "Area of Circle = 254.47cm²\n",
      "Subtracting Area of Square from Area of Circle , Remaining Area is 100.53cm²\n"
     ]
    }
   ],
   "source": [
    "#time 17 minute\n",
    "from math import pi\n",
    "def RemainingArea():\n",
    "    radius1=eval(input(\"Enter radius  of Circle 1 : \"))\n",
    "    radius2=eval(input(\"Enter radius of Circle 2: \"))\n",
    "    \n",
    "    Area_circle1 = pi * radius1**2\n",
    "    print(\"Area of Circle = {0:.{1}f}cm\\u00b2\".format(Area_circle1,2))\n",
    "    Area_circle2 = pi * radius2**2\n",
    "    print(\"Area of Circle = {0:.{1}f}cm\\u00b2\".format(Area_circle2,2))\n",
    "    \n",
    "    if Area_circle1 > Area_circle2 :\n",
    "        Remaining = Area_Circle1-Area_circle2\n",
    "        print(\"Subtracting Area of Circle from Area of Square , Remaining Area is {0:.{1}f}cm\\u00b2\".format(Remaining,2))\n",
    "    elif Area_circle2 > Area_circle1 :\n",
    "        Remaining = Area_circle2-Area_circle1\n",
    "        print(\"Subtracting Area of Square from Area of Circle , Remaining Area is {0:.{1}f}cm\\u00b2\".format(Remaining,2))\n",
    "\n",
    "RemainingArea()"
   ]
  },
  {
   "cell_type": "markdown",
   "metadata": {},
   "source": [
    "Question 13:\n",
    "Write a function that will take a string and calculate number of Upper case letters and lower case letters.\n"
   ]
  },
  {
   "cell_type": "code",
   "execution_count": 6,
   "metadata": {},
   "outputs": [
    {
     "name": "stdout",
     "output_type": "stream",
     "text": [
      "Enter a String : mohSINAlam son of alam\n",
      "Total Number of Uppercase :  4\n",
      "Total Number of Lowercase :  15\n"
     ]
    }
   ],
   "source": [
    "#time 10 minute\n",
    "def counting():\n",
    "    total = 0\n",
    "    count = 0\n",
    "    string = input(\"Enter a String : \")\n",
    "    \n",
    "    for i in string:\n",
    "        if i in 'ABCDEFGHIJKLMNOPQRSTUVWXYZ':\n",
    "            total = total + 1\n",
    "        else:\n",
    "            if i in 'abbcdefghijklmnopqrstuvwxyz':\n",
    "                count = count + 1\n",
    "    print(\"Total Number of Uppercase : \",total)\n",
    "    print(\"Total Number of Lowercase : \",count)\n",
    "counting()"
   ]
  },
  {
   "cell_type": "markdown",
   "metadata": {},
   "source": [
    "Question 14:\n",
    "Write a function which will take length and breadth of two rectangles. Subtract the smaller rectangle from the larger rectangle and return the area left behind.\n"
   ]
  },
  {
   "cell_type": "code",
   "execution_count": 7,
   "metadata": {},
   "outputs": [
    {
     "name": "stdout",
     "output_type": "stream",
     "text": [
      "Enter Length of Rectangle 1 : 12\n",
      "Enter Bredth of Rectangle 1 : 9\n",
      "Enter Length of Rectangle 2 : 7\n",
      "Enter Bredth of Rectangle 2 : 8\n",
      "Area of Bigger rectangle subtracted from smaller Rectangle : 52.00cm²\n"
     ]
    }
   ],
   "source": [
    "## 10mins\n",
    "def area():\n",
    "    l1=eval(input(\"Enter Length of Rectangle 1 : \"))\n",
    "    b1=eval(input(\"Enter Bredth of Rectangle 1 : \"))\n",
    "    l2=eval(input(\"Enter Length of Rectangle 2 : \"))\n",
    "    b2=eval(input(\"Enter Bredth of Rectangle 2 : \"))\n",
    "    area1 = l1*b1\n",
    "    area2 = l2*b2\n",
    "    if area1 > area2:\n",
    "        Remaining = area1-area2\n",
    "        print(\"Area of Bigger rectangle subtracted from smaller Rectangle : {0:.{1}f}cm\\u00b2\".format(Remaining,2))\n",
    "    if area2 > area1:\n",
    "        Remaining = area2-area1\n",
    "        print(\"Area of Bigger rectangle subtracted from smaller Rectangle : {0:.{1}f}cm\\u00b2\".format(Remaining,2))  \n",
    "area()"
   ]
  },
  {
   "cell_type": "markdown",
   "metadata": {},
   "source": [
    "Question 15:\n",
    "Create a function that can add the fractions in series such as 1 to 8 = 1/8+1/7+1/6+1/5 …… ½ and return the result in fraction not in decimal.\n"
   ]
  },
  {
   "cell_type": "code",
   "execution_count": 8,
   "metadata": {},
   "outputs": [
    {
     "name": "stdout",
     "output_type": "stream",
     "text": [
      "761/280\n"
     ]
    }
   ],
   "source": [
    "##5 mins\n",
    "def function():\n",
    "    from fractions import Fraction\n",
    "    sum = 0\n",
    "    for i in range(1,9):\n",
    "        sum = sum + Fraction(1,i) \n",
    "        \n",
    "    print(sum)\n",
    "function()"
   ]
  },
  {
   "cell_type": "markdown",
   "metadata": {},
   "source": [
    "Question 17:\n",
    "Write a function which will take a list of fruits names. The function will return how many alphabets are repetitive in the names of fruits and how many are unique letters.\n"
   ]
  },
  {
   "cell_type": "code",
   "execution_count": 9,
   "metadata": {},
   "outputs": [
    {
     "name": "stdout",
     "output_type": "stream",
     "text": [
      "Enter Fruit Name : watermellon\n",
      "Enter Fruit Name : strawbbary\n",
      "Enter Fruit Name : pappaya\n",
      "Number of Unique letter :  3\n",
      "Number of Repetitive Letter :  25\n"
     ]
    }
   ],
   "source": [
    "## 15mins\n",
    "def counter():\n",
    "    j = ['']\n",
    "    count = 0\n",
    "    total = 0\n",
    "    fruits=['','','']\n",
    "    for i in range(3):\n",
    "        fruits[i]=input(\"Enter Fruit Name : \")\n",
    "    for i in fruits:\n",
    "        for x in i :\n",
    "            if i in j:\n",
    "                count = count + 1 \n",
    "            if i not in j:\n",
    "                j.append(i)\n",
    "                total = total + 1 \n",
    "    print(\"Number of Unique letter : \",total)\n",
    "    print(\"Number of Repetitive Letter : \",count)\n",
    "counter()            "
   ]
  },
  {
   "cell_type": "markdown",
   "metadata": {},
   "source": [
    "Question 18:\n",
    "Write a function that can take square length and radius of circle. Find the area of both and subtract the smallest shape from largest one and return the remaining shape area.\n"
   ]
  },
  {
   "cell_type": "code",
   "execution_count": 11,
   "metadata": {},
   "outputs": [
    {
     "name": "stdout",
     "output_type": "stream",
     "text": [
      "Enter length of square : 10\n",
      "Enter radius of Circle : 15\n",
      "Area of Square = 20.00cm²\n",
      "Area of Circle = 706.86cm²\n",
      "Subtracting Area of Square from Area of Circle , Remaining Area is 686.86cm²\n"
     ]
    }
   ],
   "source": [
    "## 12 mins\n",
    "from math import pi\n",
    "def RemainingArea():\n",
    "    length=eval(input(\"Enter length of square : \"))\n",
    "    radius=eval(input(\"Enter radius of Circle : \"))\n",
    "    #Area of Square\n",
    "    A_square = 2 * length\n",
    "    print(\"Area of Square = {0:.{1}f}cm\\u00b2\".format(A_square,2))\n",
    "    A_circle = pi * radius**2\n",
    "    print(\"Area of Circle = {0:.{1}f}cm\\u00b2\".format(A_circle,2))\n",
    "    \n",
    "    if A_square > A_circle :\n",
    "        Remaining = A_square-A_circle\n",
    "        print(\"Subtracting Area of Circle from Area of Square , Remaining Area is {0:.{1}f}cm\\u00b2\".format(Remaining,2))\n",
    "    elif A_circle > A_square :\n",
    "        Remaining = A_circle-A_square\n",
    "        print(\"Subtracting Area of Square from Area of Circle , Remaining Area is {0:.{1}f}cm\\u00b2\".format(Remaining,2))\n",
    "RemainingArea()"
   ]
  },
  {
   "cell_type": "code",
   "execution_count": null,
   "metadata": {},
   "outputs": [],
   "source": []
  },
  {
   "cell_type": "code",
   "execution_count": null,
   "metadata": {},
   "outputs": [],
   "source": []
  }
 ],
 "metadata": {
  "kernelspec": {
   "display_name": "Python 3",
   "language": "python",
   "name": "python3"
  },
  "language_info": {
   "codemirror_mode": {
    "name": "ipython",
    "version": 3
   },
   "file_extension": ".py",
   "mimetype": "text/x-python",
   "name": "python",
   "nbconvert_exporter": "python",
   "pygments_lexer": "ipython3",
   "version": "3.7.3"
  }
 },
 "nbformat": 4,
 "nbformat_minor": 2
}
